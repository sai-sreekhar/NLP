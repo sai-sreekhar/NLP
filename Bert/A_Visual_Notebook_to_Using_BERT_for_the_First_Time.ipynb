{
  "cells": [
    {
      "cell_type": "markdown",
      "metadata": {
        "colab_type": "text",
        "id": "view-in-github"
      },
      "source": [
        "<a href=\"https://colab.research.google.com/github/sai-sreekhar/ML-Learning/blob/main/notebooks/bert/A_Visual_Notebook_to_Using_BERT_for_the_First_Time.ipynb\" target=\"_parent\"><img src=\"https://colab.research.google.com/assets/colab-badge.svg\" alt=\"Open In Colab\"/></a>"
      ]
    },
    {
      "cell_type": "markdown",
      "metadata": {
        "id": "izA3-6kffbdT"
      },
      "source": [
        "# A Visual Notebook to Using BERT for the First TIme.ipynb\n",
        "\n",
        "\n",
        "\n",
        "<img src=\"https://jalammar.github.io/images/distilBERT/bert-distilbert-sentence-classification.png\" />\n",
        "\n",
        "In this notebook, we will use pre-trained deep learning model to process some text. We will then use the output of that model to classify the text. The text is a list of sentences from film reviews. And we will classify each sentence as either speaking \"positively\" about its subject or \"negatively\".\n",
        "\n",
        "## Models: Sentence Sentiment Classification\n",
        "Our goal is to create a model that takes a sentence (just like the ones in our dataset) and produces either 1 (indicating the sentence carries a positive sentiment) or a 0 (indicating the sentence carries a negative sentiment). We can think of it as looking like this:\n",
        "\n",
        "<img src=\"https://jalammar.github.io/images/distilBERT/sentiment-classifier-1.png\" />\n",
        "\n",
        "Under the hood, the model is actually made up of two model.\n",
        "\n",
        "* DistilBERT processes the sentence and passes along some information it extracted from it on to the next model. DistilBERT is a smaller version of BERT developed and open sourced by the team at HuggingFace. It’s a lighter and faster version of BERT that roughly matches its performance.\n",
        "* The next model, a basic Logistic Regression model from scikit learn will take in the result of DistilBERT’s processing, and classify the sentence as either positive or negative (1 or 0, respectively).\n",
        "\n",
        "The data we pass between the two models is a vector of size 768. We can think of this of vector as an embedding for the sentence that we can use for classification.\n",
        "\n",
        "\n",
        "<img src=\"https://jalammar.github.io/images/distilBERT/distilbert-bert-sentiment-classifier.png\" />\n",
        "\n",
        "## Dataset\n",
        "The dataset we will use in this example is [SST2](https://nlp.stanford.edu/sentiment/index.html), which contains sentences from movie reviews, each labeled as either positive (has the value 1) or negative (has the value 0):\n",
        "\n",
        "\n",
        "<table class=\"features-table\">\n",
        "  <tr>\n",
        "    <th class=\"mdc-text-light-green-600\">\n",
        "    sentence\n",
        "    </th>\n",
        "    <th class=\"mdc-text-purple-600\">\n",
        "    label\n",
        "    </th>\n",
        "  </tr>\n",
        "  <tr>\n",
        "    <td class=\"mdc-bg-light-green-50\" style=\"text-align:left\">\n",
        "      a stirring , funny and finally transporting re imagining of beauty and the beast and 1930s horror films\n",
        "    </td>\n",
        "    <td class=\"mdc-bg-purple-50\">\n",
        "      1\n",
        "    </td>\n",
        "  </tr>\n",
        "  <tr>\n",
        "    <td class=\"mdc-bg-light-green-50\" style=\"text-align:left\">\n",
        "      apparently reassembled from the cutting room floor of any given daytime soap\n",
        "    </td>\n",
        "    <td class=\"mdc-bg-purple-50\">\n",
        "      0\n",
        "    </td>\n",
        "  </tr>\n",
        "  <tr>\n",
        "    <td class=\"mdc-bg-light-green-50\" style=\"text-align:left\">\n",
        "      they presume their audience won't sit still for a sociology lesson\n",
        "    </td>\n",
        "    <td class=\"mdc-bg-purple-50\">\n",
        "      0\n",
        "    </td>\n",
        "  </tr>\n",
        "  <tr>\n",
        "    <td class=\"mdc-bg-light-green-50\" style=\"text-align:left\">\n",
        "      this is a visually stunning rumination on love , memory , history and the war between art and commerce\n",
        "    </td>\n",
        "    <td class=\"mdc-bg-purple-50\">\n",
        "      1\n",
        "    </td>\n",
        "  </tr>\n",
        "  <tr>\n",
        "    <td class=\"mdc-bg-light-green-50\" style=\"text-align:left\">\n",
        "      jonathan parker 's bartleby should have been the be all end all of the modern office anomie films\n",
        "    </td>\n",
        "    <td class=\"mdc-bg-purple-50\">\n",
        "      1\n",
        "    </td>\n",
        "  </tr>\n",
        "</table>\n",
        "\n",
        "## Installing the transformers library\n",
        "Let's start by installing the huggingface transformers library so we can load our deep learning NLP model."
      ]
    },
    {
      "cell_type": "code",
      "execution_count": 16,
      "metadata": {
        "colab": {
          "base_uri": "https://localhost:8080/",
          "height": 632
        },
        "id": "To9ENLU90WGl",
        "outputId": "4b46c997-c16c-4141-eaf2-e7aa7da6d3a0"
      },
      "outputs": [
        {
          "name": "stdout",
          "output_type": "stream",
          "text": [
            "Requirement already satisfied: transformers in /home/saisreekar/anaconda3/lib/python3.9/site-packages (4.28.1)\n",
            "Requirement already satisfied: filelock in /home/saisreekar/anaconda3/lib/python3.9/site-packages (from transformers) (3.6.0)\n",
            "Requirement already satisfied: tokenizers!=0.11.3,<0.14,>=0.11.1 in /home/saisreekar/anaconda3/lib/python3.9/site-packages (from transformers) (0.13.3)\n",
            "Requirement already satisfied: pyyaml>=5.1 in /home/saisreekar/anaconda3/lib/python3.9/site-packages (from transformers) (6.0)\n",
            "Requirement already satisfied: tqdm>=4.27 in /home/saisreekar/anaconda3/lib/python3.9/site-packages (from transformers) (4.64.1)\n",
            "Requirement already satisfied: huggingface-hub<1.0,>=0.11.0 in /home/saisreekar/anaconda3/lib/python3.9/site-packages (from transformers) (0.14.1)\n",
            "Requirement already satisfied: regex!=2019.12.17 in /home/saisreekar/anaconda3/lib/python3.9/site-packages (from transformers) (2022.7.9)\n",
            "Requirement already satisfied: requests in /home/saisreekar/anaconda3/lib/python3.9/site-packages (from transformers) (2.28.1)\n",
            "Requirement already satisfied: numpy>=1.17 in /home/saisreekar/anaconda3/lib/python3.9/site-packages (from transformers) (1.21.5)\n",
            "Requirement already satisfied: packaging>=20.0 in /home/saisreekar/anaconda3/lib/python3.9/site-packages (from transformers) (21.3)\n",
            "Requirement already satisfied: fsspec in /home/saisreekar/anaconda3/lib/python3.9/site-packages (from huggingface-hub<1.0,>=0.11.0->transformers) (2022.7.1)\n",
            "Requirement already satisfied: typing-extensions>=3.7.4.3 in /home/saisreekar/anaconda3/lib/python3.9/site-packages (from huggingface-hub<1.0,>=0.11.0->transformers) (4.3.0)\n",
            "Requirement already satisfied: pyparsing!=3.0.5,>=2.0.2 in /home/saisreekar/anaconda3/lib/python3.9/site-packages (from packaging>=20.0->transformers) (3.0.9)\n",
            "Requirement already satisfied: charset-normalizer<3,>=2 in /home/saisreekar/anaconda3/lib/python3.9/site-packages (from requests->transformers) (2.0.4)\n",
            "Requirement already satisfied: certifi>=2017.4.17 in /home/saisreekar/anaconda3/lib/python3.9/site-packages (from requests->transformers) (2022.9.14)\n",
            "Requirement already satisfied: idna<4,>=2.5 in /home/saisreekar/anaconda3/lib/python3.9/site-packages (from requests->transformers) (3.3)\n",
            "Requirement already satisfied: urllib3<1.27,>=1.21.1 in /home/saisreekar/anaconda3/lib/python3.9/site-packages (from requests->transformers) (1.26.11)\n"
          ]
        }
      ],
      "source": [
        "!pip install transformers"
      ]
    },
    {
      "cell_type": "code",
      "execution_count": 18,
      "metadata": {
        "colab": {
          "base_uri": "https://localhost:8080/",
          "height": 63
        },
        "id": "fvFvBLJV0Dkv",
        "outputId": "140119e5-4cee-4604-c0d2-be279c18b125"
      },
      "outputs": [],
      "source": [
        "import numpy as np\n",
        "import pandas as pd\n",
        "from sklearn.model_selection import train_test_split\n",
        "from sklearn.linear_model import LogisticRegression\n",
        "from sklearn.model_selection import GridSearchCV\n",
        "from sklearn.model_selection import cross_val_score\n",
        "import torch\n",
        "import transformers as ppb\n",
        "import warnings\n",
        "warnings.filterwarnings('ignore')"
      ]
    },
    {
      "cell_type": "markdown",
      "metadata": {
        "id": "zQ-42fh0hjsF"
      },
      "source": [
        "## Importing the dataset\n",
        "We'll use pandas to read the dataset and load it into a dataframe."
      ]
    },
    {
      "cell_type": "code",
      "execution_count": 19,
      "metadata": {
        "id": "cyoj29J24hPX"
      },
      "outputs": [],
      "source": [
        "df = pd.read_csv('https://github.com/clairett/pytorch-sentiment-classification/raw/master/data/SST2/train.tsv', delimiter='\\t', header=None)"
      ]
    },
    {
      "cell_type": "markdown",
      "metadata": {},
      "source": []
    },
    {
      "cell_type": "markdown",
      "metadata": {
        "id": "dMVE3waNhuNj"
      },
      "source": [
        "For performance reasons, we'll only use 2,000 sentences from the dataset"
      ]
    },
    {
      "cell_type": "code",
      "execution_count": 20,
      "metadata": {
        "id": "gTM3hOHW4hUY"
      },
      "outputs": [
        {
          "data": {
            "text/html": [
              "<div>\n",
              "<style scoped>\n",
              "    .dataframe tbody tr th:only-of-type {\n",
              "        vertical-align: middle;\n",
              "    }\n",
              "\n",
              "    .dataframe tbody tr th {\n",
              "        vertical-align: top;\n",
              "    }\n",
              "\n",
              "    .dataframe thead th {\n",
              "        text-align: right;\n",
              "    }\n",
              "</style>\n",
              "<table border=\"1\" class=\"dataframe\">\n",
              "  <thead>\n",
              "    <tr style=\"text-align: right;\">\n",
              "      <th></th>\n",
              "      <th>0</th>\n",
              "      <th>1</th>\n",
              "    </tr>\n",
              "  </thead>\n",
              "  <tbody>\n",
              "    <tr>\n",
              "      <th>0</th>\n",
              "      <td>a stirring , funny and finally transporting re...</td>\n",
              "      <td>1</td>\n",
              "    </tr>\n",
              "    <tr>\n",
              "      <th>1</th>\n",
              "      <td>apparently reassembled from the cutting room f...</td>\n",
              "      <td>0</td>\n",
              "    </tr>\n",
              "    <tr>\n",
              "      <th>2</th>\n",
              "      <td>they presume their audience wo n't sit still f...</td>\n",
              "      <td>0</td>\n",
              "    </tr>\n",
              "    <tr>\n",
              "      <th>3</th>\n",
              "      <td>this is a visually stunning rumination on love...</td>\n",
              "      <td>1</td>\n",
              "    </tr>\n",
              "    <tr>\n",
              "      <th>4</th>\n",
              "      <td>jonathan parker 's bartleby should have been t...</td>\n",
              "      <td>1</td>\n",
              "    </tr>\n",
              "    <tr>\n",
              "      <th>...</th>\n",
              "      <td>...</td>\n",
              "      <td>...</td>\n",
              "    </tr>\n",
              "    <tr>\n",
              "      <th>1995</th>\n",
              "      <td>too bland and fustily tasteful to be truly pru...</td>\n",
              "      <td>0</td>\n",
              "    </tr>\n",
              "    <tr>\n",
              "      <th>1996</th>\n",
              "      <td>it does n't work as either</td>\n",
              "      <td>0</td>\n",
              "    </tr>\n",
              "    <tr>\n",
              "      <th>1997</th>\n",
              "      <td>this one aims for the toilet and scores a dire...</td>\n",
              "      <td>0</td>\n",
              "    </tr>\n",
              "    <tr>\n",
              "      <th>1998</th>\n",
              "      <td>in the name of an allegedly inspiring and easi...</td>\n",
              "      <td>0</td>\n",
              "    </tr>\n",
              "    <tr>\n",
              "      <th>1999</th>\n",
              "      <td>the movie is undone by a filmmaking methodolog...</td>\n",
              "      <td>0</td>\n",
              "    </tr>\n",
              "  </tbody>\n",
              "</table>\n",
              "<p>2000 rows × 2 columns</p>\n",
              "</div>"
            ],
            "text/plain": [
              "                                                      0  1\n",
              "0     a stirring , funny and finally transporting re...  1\n",
              "1     apparently reassembled from the cutting room f...  0\n",
              "2     they presume their audience wo n't sit still f...  0\n",
              "3     this is a visually stunning rumination on love...  1\n",
              "4     jonathan parker 's bartleby should have been t...  1\n",
              "...                                                 ... ..\n",
              "1995  too bland and fustily tasteful to be truly pru...  0\n",
              "1996                         it does n't work as either  0\n",
              "1997  this one aims for the toilet and scores a dire...  0\n",
              "1998  in the name of an allegedly inspiring and easi...  0\n",
              "1999  the movie is undone by a filmmaking methodolog...  0\n",
              "\n",
              "[2000 rows x 2 columns]"
            ]
          },
          "execution_count": 20,
          "metadata": {},
          "output_type": "execute_result"
        }
      ],
      "source": [
        "batch_1 = df[:2000]\n",
        "batch_1"
      ]
    },
    {
      "cell_type": "markdown",
      "metadata": {
        "id": "PRc2L89hh1Tf"
      },
      "source": [
        "We can ask pandas how many sentences are labeled as \"positive\" (value 1) and how many are labeled \"negative\" (having the value 0)"
      ]
    },
    {
      "cell_type": "code",
      "execution_count": 21,
      "metadata": {
        "colab": {
          "base_uri": "https://localhost:8080/",
          "height": 68
        },
        "id": "jGvcfcCP5xpZ",
        "outputId": "4c4a8afc-1035-4b21-ba9a-c4bb6cfc6347"
      },
      "outputs": [
        {
          "data": {
            "text/plain": [
              "1    1041\n",
              "0     959\n",
              "Name: 1, dtype: int64"
            ]
          },
          "execution_count": 21,
          "metadata": {},
          "output_type": "execute_result"
        }
      ],
      "source": [
        "batch_1[1].value_counts()"
      ]
    },
    {
      "cell_type": "markdown",
      "metadata": {
        "id": "7_MO08_KiAOb"
      },
      "source": [
        "## Loading the Pre-trained BERT model\n",
        "Let's now load a pre-trained BERT model. "
      ]
    },
    {
      "cell_type": "code",
      "execution_count": 22,
      "metadata": {
        "colab": {
          "base_uri": "https://localhost:8080/",
          "height": 68
        },
        "id": "q1InADgf5xm2",
        "outputId": "dbc52856-4d52-42f8-8a74-a89944280a02"
      },
      "outputs": [
        {
          "data": {
            "application/vnd.jupyter.widget-view+json": {
              "model_id": "bb3cd11510c24f58a7eb82787cf16f8e",
              "version_major": 2,
              "version_minor": 0
            },
            "text/plain": [
              "Downloading pytorch_model.bin:   0%|          | 0.00/268M [00:00<?, ?B/s]"
            ]
          },
          "metadata": {},
          "output_type": "display_data"
        },
        {
          "name": "stderr",
          "output_type": "stream",
          "text": [
            "Some weights of the model checkpoint at distilbert-base-uncased were not used when initializing DistilBertModel: ['vocab_transform.weight', 'vocab_transform.bias', 'vocab_projector.bias', 'vocab_layer_norm.bias', 'vocab_projector.weight', 'vocab_layer_norm.weight']\n",
            "- This IS expected if you are initializing DistilBertModel from the checkpoint of a model trained on another task or with another architecture (e.g. initializing a BertForSequenceClassification model from a BertForPreTraining model).\n",
            "- This IS NOT expected if you are initializing DistilBertModel from the checkpoint of a model that you expect to be exactly identical (initializing a BertForSequenceClassification model from a BertForSequenceClassification model).\n"
          ]
        }
      ],
      "source": [
        "# For DistilBERT:\n",
        "model_class, tokenizer_class, pretrained_weights = (ppb.DistilBertModel, ppb.DistilBertTokenizer, 'distilbert-base-uncased')\n",
        "\n",
        "## Want BERT instead of distilBERT? Uncomment the following line:\n",
        "#model_class, tokenizer_class, pretrained_weights = (ppb.BertModel, ppb.BertTokenizer, 'bert-base-uncased')\n",
        "\n",
        "# Load pretrained model/tokenizer\n",
        "tokenizer = tokenizer_class.from_pretrained(pretrained_weights)\n",
        "model = model_class.from_pretrained(pretrained_weights)"
      ]
    },
    {
      "cell_type": "markdown",
      "metadata": {
        "id": "lZDBMn3wiSX6"
      },
      "source": [
        "Right now, the variable `model` holds a pretrained distilBERT model -- a version of BERT that is smaller, but much faster and requiring a lot less memory.\n",
        "\n",
        "## Model #1: Preparing the Dataset\n",
        "Before we can hand our sentences to BERT, we need to do some minimal processing to put them in the format it requires.\n",
        "\n",
        "### Tokenization\n",
        "Our first step is to tokenize the sentences -- break them up into word and subwords in the format BERT is comfortable with."
      ]
    },
    {
      "cell_type": "code",
      "execution_count": 42,
      "metadata": {
        "id": "Dg82ndBA5xlN"
      },
      "outputs": [
        {
          "data": {
            "text/plain": [
              "array([list([101, 1037, 18385, 1010, 6057, 1998, 2633, 18276, 2128, 16603, 1997, 5053, 1998, 1996, 6841, 1998, 5687, 5469, 3152, 102]),\n",
              "       list([101, 4593, 2128, 27241, 23931, 2013, 1996, 6276, 2282, 2723, 1997, 2151, 2445, 12217, 7815, 102]),\n",
              "       list([101, 2027, 3653, 23545, 2037, 4378, 24185, 1050, 1005, 1056, 4133, 2145, 2005, 1037, 11507, 10800, 1010, 2174, 14036, 2135, 3591, 1010, 2061, 2027, 19817, 4140, 2041, 1996, 7511, 2671, 4349, 3787, 1997, 11829, 7168, 9219, 1998, 28971, 2308, 1999, 8301, 8737, 2100, 4253, 102]),\n",
              "       ...,\n",
              "       list([101, 2023, 2028, 8704, 2005, 1996, 11848, 1998, 7644, 1037, 3622, 2718, 102]),\n",
              "       list([101, 1999, 1996, 2171, 1997, 2019, 9382, 18988, 1998, 4089, 3006, 3085, 17312, 1010, 1996, 3750, 1005, 1055, 2252, 4332, 1037, 6397, 3239, 2000, 1996, 2200, 2381, 2009, 9811, 2015, 2000, 6570, 102]),\n",
              "       list([101, 1996, 3185, 2003, 25757, 2011, 1037, 24466, 16134, 2008, 1005, 1055, 2074, 6388, 2438, 2000, 7344, 3686, 1996, 7731, 4378, 2096, 13060, 18856, 17322, 2094, 2000, 15015, 10271, 4641, 102])],\n",
              "      dtype=object)"
            ]
          },
          "execution_count": 42,
          "metadata": {},
          "output_type": "execute_result"
        }
      ],
      "source": [
        "batch_1[0]\n",
        "tokenized = batch_1[0].apply((lambda x: tokenizer.encode(x, add_special_tokens=True)))\n",
        "# batch_1[0]\n",
        "tokenized.values"
      ]
    },
    {
      "cell_type": "markdown",
      "metadata": {
        "id": "mHwjUwYgi-uL"
      },
      "source": [
        "<img src=\"https://jalammar.github.io/images/distilBERT/bert-distilbert-tokenization-2-token-ids.png\" />\n",
        "\n",
        "### Padding\n",
        "After tokenization, `tokenized` is a list of sentences -- each sentences is represented as a list of tokens. We want BERT to process our examples all at once (as one batch). It's just faster that way. For that reason, we need to pad all lists to the same size, so we can represent the input as one 2-d array, rather than a list of lists (of different lengths)."
      ]
    },
    {
      "cell_type": "code",
      "execution_count": 38,
      "metadata": {
        "id": "URn-DWJt5xhP"
      },
      "outputs": [],
      "source": [
        "max_len = 0\n",
        "for i in tokenized.values:\n",
        "    if len(i) > max_len:\n",
        "        max_len = len(i)\n",
        "\n",
        "padded = np.array([i + [0]*(max_len-len(i)) for i in tokenized.values])"
      ]
    },
    {
      "cell_type": "markdown",
      "metadata": {
        "id": "Mdjg306wjjmL"
      },
      "source": [
        "Our dataset is now in the `padded` variable, we can view its dimensions below:"
      ]
    },
    {
      "cell_type": "code",
      "execution_count": 52,
      "metadata": {
        "colab": {
          "base_uri": "https://localhost:8080/",
          "height": 34
        },
        "id": "jdi7uXo95xeq",
        "outputId": "be786022-e84f-4e28-8531-0143af2347bc"
      },
      "outputs": [
        {
          "data": {
            "text/plain": [
              "(2000, 59)"
            ]
          },
          "execution_count": 52,
          "metadata": {},
          "output_type": "execute_result"
        }
      ],
      "source": [
        "np.array(padded).shape\n",
        "# padded"
      ]
    },
    {
      "cell_type": "markdown",
      "metadata": {
        "id": "sDZBsYSDjzDV"
      },
      "source": [
        "### Masking\n",
        "If we directly send `padded` to BERT, that would slightly confuse it. We need to create another variable to tell it to ignore (mask) the padding we've added when it's processing its input. That's what attention_mask is:"
      ]
    },
    {
      "cell_type": "code",
      "execution_count": 45,
      "metadata": {
        "colab": {
          "base_uri": "https://localhost:8080/",
          "height": 34
        },
        "id": "4K_iGRNa_Ozc",
        "outputId": "d03b0a9b-1f6e-4e32-831e-b04f5389e57c"
      },
      "outputs": [
        {
          "data": {
            "text/plain": [
              "array([[1, 1, 1, ..., 0, 0, 0],\n",
              "       [1, 1, 1, ..., 0, 0, 0],\n",
              "       [1, 1, 1, ..., 0, 0, 0],\n",
              "       ...,\n",
              "       [1, 1, 1, ..., 0, 0, 0],\n",
              "       [1, 1, 1, ..., 0, 0, 0],\n",
              "       [1, 1, 1, ..., 0, 0, 0]])"
            ]
          },
          "execution_count": 45,
          "metadata": {},
          "output_type": "execute_result"
        }
      ],
      "source": [
        "attention_mask = np.where(padded != 0, 1, 0)\n",
        "attention_mask.shape\n",
        "attention_mask"
      ]
    },
    {
      "cell_type": "markdown",
      "metadata": {
        "id": "jK-CQB9-kN99"
      },
      "source": [
        "## Model #1: And Now, Deep Learning!\n",
        "Now that we have our model and inputs ready, let's run our model!\n",
        "\n",
        "<img src=\"https://jalammar.github.io/images/distilBERT/bert-distilbert-tutorial-sentence-embedding.png\" />\n",
        "\n",
        "The `model()` function runs our sentences through BERT. The results of the processing will be returned into `last_hidden_states`."
      ]
    },
    {
      "cell_type": "code",
      "execution_count": 53,
      "metadata": {
        "id": "39UVjAV56PJz"
      },
      "outputs": [
        {
          "data": {
            "text/plain": [
              "BaseModelOutput(last_hidden_state=tensor([[[-0.2159, -0.1403,  0.0083,  ..., -0.1369,  0.5867,  0.2011],\n",
              "         [-0.2471,  0.2468,  0.1008,  ..., -0.1631,  0.9349, -0.0715],\n",
              "         [ 0.0558,  0.3573,  0.4140,  ..., -0.2430,  0.1770, -0.5080],\n",
              "         ...,\n",
              "         [-0.0165,  0.1179,  0.3512,  ..., -0.2401,  0.2722, -0.1750],\n",
              "         [ 0.0961,  0.0667,  0.3147,  ..., -0.3277,  0.3556, -0.2135],\n",
              "         [ 0.0454,  0.0519,  0.3168,  ..., -0.2880,  0.1844, -0.1042]],\n",
              "\n",
              "        [[-0.1726, -0.1448,  0.0022,  ..., -0.1744,  0.2139,  0.3720],\n",
              "         [ 0.0022,  0.1684,  0.1269,  ..., -0.1888, -0.0195, -0.0283],\n",
              "         [ 0.0257, -0.2458,  0.0717,  ..., -0.4339,  0.1622,  0.0133],\n",
              "         ...,\n",
              "         [ 0.0505, -0.0493,  0.0463,  ..., -0.0448, -0.0540,  0.3136],\n",
              "         [-0.2128, -0.1907, -0.0215,  ...,  0.0139, -0.2433, -0.0202],\n",
              "         [-0.1310, -0.1693,  0.1019,  ..., -0.0859, -0.1770, -0.0872]],\n",
              "\n",
              "        [[-0.0506,  0.0720, -0.0296,  ..., -0.0715,  0.7185,  0.2623],\n",
              "         [ 0.0536,  0.3136, -0.0598,  ...,  0.2676,  0.8668, -0.3380],\n",
              "         [ 0.3792,  0.2792,  0.0237,  ...,  0.0343,  0.4272,  0.1680],\n",
              "         ...,\n",
              "         [ 0.2314,  0.2427,  0.1030,  ..., -0.0840,  0.2322,  0.0613],\n",
              "         [ 0.0741,  0.0465,  0.1083,  ...,  0.0530,  0.1971,  0.0233],\n",
              "         [ 0.1042,  0.3139,  0.0768,  ..., -0.0301,  0.1052, -0.0780]],\n",
              "\n",
              "        ...,\n",
              "\n",
              "        [[-0.2783, -0.2480,  0.1359,  ..., -0.1904,  0.1310,  0.3498],\n",
              "         [-0.4406, -0.5159,  0.1700,  ..., -0.3430,  0.3747,  0.0846],\n",
              "         [-0.4604, -0.3928,  0.0390,  ..., -0.3068, -0.1666,  0.2803],\n",
              "         ...,\n",
              "         [-0.2033, -0.2213,  0.2879,  ..., -0.2334, -0.1342,  0.1061],\n",
              "         [-0.0998, -0.2407,  0.1394,  ..., -0.1828, -0.0762,  0.2031],\n",
              "         [-0.0663, -0.1063,  0.1606,  ..., -0.2004, -0.2571,  0.1438]],\n",
              "\n",
              "        [[-0.0367,  0.1064, -0.0111,  ..., -0.1121,  0.4162,  0.5034],\n",
              "         [-0.1869,  0.3485, -0.8375,  ..., -0.1169,  0.3985,  0.3065],\n",
              "         [-0.3108,  0.2174, -0.1678,  ..., -0.1267,  0.3512, -0.0812],\n",
              "         ...,\n",
              "         [ 0.0874,  0.0203,  0.0381,  ...,  0.1545,  0.0125,  0.1109],\n",
              "         [ 0.2528, -0.0149,  0.0847,  ...,  0.0441,  0.1973,  0.2889],\n",
              "         [ 0.2378, -0.0568,  0.2862,  ...,  0.0842,  0.1540,  0.1655]],\n",
              "\n",
              "        [[ 0.1240,  0.0143,  0.0104,  ..., -0.1161,  0.5346,  0.2750],\n",
              "         [ 0.1294, -0.2348, -0.0882,  ...,  0.0997,  1.1743, -0.3309],\n",
              "         [ 0.5874, -0.1074, -0.0561,  ..., -0.0401,  0.3627, -0.4122],\n",
              "         ...,\n",
              "         [ 0.4066, -0.1452,  0.0651,  ...,  0.0879,  0.3980, -0.1256],\n",
              "         [ 0.4385, -0.1488,  0.1139,  ..., -0.0744,  0.3416, -0.3278],\n",
              "         [ 0.5451, -0.0851,  0.1311,  ..., -0.0017,  0.3413, -0.3513]]]), hidden_states=None, attentions=None)"
            ]
          },
          "execution_count": 53,
          "metadata": {},
          "output_type": "execute_result"
        }
      ],
      "source": [
        "input_ids = torch.tensor(padded)  \n",
        "attention_mask = torch.tensor(attention_mask)\n",
        "# print(input_ids,attention_mask)\n",
        "with torch.no_grad():\n",
        "    last_hidden_states = model(input_ids, attention_mask=attention_mask)\n",
        "last_hidden_states"
      ]
    },
    {
      "cell_type": "markdown",
      "metadata": {
        "id": "FoCep_WVuB3v"
      },
      "source": [
        "Let's slice only the part of the output that we need. That is the output corresponding the first token of each sentence. The way BERT does sentence classification, is that it adds a token called `[CLS]` (for classification) at the beginning of every sentence. The output corresponding to that token can be thought of as an embedding for the entire sentence.\n",
        "\n",
        "<img src=\"https://jalammar.github.io/images/distilBERT/bert-output-tensor-selection.png\" />\n",
        "\n",
        "We'll save those in the `features` variable, as they'll serve as the features to our logitics regression model."
      ]
    },
    {
      "cell_type": "code",
      "execution_count": 60,
      "metadata": {
        "id": "C9t60At16PVs"
      },
      "outputs": [
        {
          "data": {
            "text/plain": [
              "array([-2.15934351e-01, -1.40289173e-01,  8.31076689e-03, -1.01173371e-01,\n",
              "       -9.87996757e-02, -9.25805122e-02,  1.87412590e-01,  3.08779001e-01,\n",
              "       -7.91286007e-02, -1.44935846e-01,  1.29221575e-02, -1.36827782e-01,\n",
              "        3.67216803e-02,  6.08318329e-01,  2.33621046e-01,  2.01323047e-01,\n",
              "       -1.31743833e-01,  1.87263843e-02,  2.52962112e-01, -2.21181050e-01,\n",
              "       -1.14542499e-01, -3.13524991e-01,  5.52367270e-02,  7.94839635e-02,\n",
              "       -1.53784320e-01,  4.26344648e-02, -1.94976310e-04,  1.14512711e-03,\n",
              "        7.43558183e-02,  2.09377125e-01, -5.21901920e-02,  6.25471026e-02,\n",
              "       -2.60290414e-01, -1.67425975e-01,  7.21114874e-02, -2.15378001e-01,\n",
              "        2.78935991e-02, -1.80328786e-01, -1.40430525e-01, -6.71678111e-02,\n",
              "        6.60610795e-02,  2.57112622e-01,  2.85620153e-01, -1.67045549e-01,\n",
              "       -1.00374587e-01, -2.26535365e-01, -2.28292179e+00, -9.99599546e-02,\n",
              "       -3.67451131e-01, -2.69333512e-01,  3.28168035e-01,  5.34574911e-02,\n",
              "        2.51954734e-01,  7.40890950e-02,  3.34379613e-01,  4.34945971e-01,\n",
              "       -2.34628960e-01,  3.34851533e-01,  4.94561195e-02,  5.11803925e-02,\n",
              "        1.83383927e-01, -1.76840872e-02,  8.29965714e-03, -7.89424405e-02,\n",
              "       -2.50499010e-01,  1.02248408e-01, -1.27494857e-01,  1.43907562e-01,\n",
              "       -3.15903202e-02,  4.67466831e-01, -2.48736009e-01,  2.91284453e-02,\n",
              "        2.99393594e-01, -7.84683600e-02, -3.12926546e-02, -2.55598575e-01,\n",
              "        1.47508234e-01,  9.47482362e-02, -3.19616079e-01, -1.98020991e-02,\n",
              "        4.76599708e-02,  2.81679034e-01,  4.19169009e-01,  2.62967855e-01,\n",
              "       -1.09433562e-01,  2.37686649e-01, -2.00846449e-01, -3.69343460e-02,\n",
              "        9.27013531e-02,  4.20481622e-01, -4.09123003e-01, -1.60439044e-01,\n",
              "        5.93048371e-02,  2.96820879e-01,  4.51291978e-01, -4.44761485e-01,\n",
              "       -3.75310034e-02,  1.86731461e-02,  1.83116019e-01,  3.07115585e-01,\n",
              "        2.12737083e-01, -4.48161457e-03, -3.84236425e-02, -4.72884953e-01,\n",
              "       -5.87595813e-03,  9.13586169e-02,  1.56961337e-01, -2.81627208e-01,\n",
              "        8.41118917e-02, -2.34775209e+00,  2.35807911e-01,  2.40705714e-01,\n",
              "        4.50069495e-02, -1.14455409e-01, -3.71510237e-02,  2.35780641e-01,\n",
              "        1.42813548e-01, -8.34302828e-02, -1.28888547e-01,  7.69661739e-02,\n",
              "        4.32581455e-02,  1.84704244e-01, -4.52457517e-02,  8.95954221e-02,\n",
              "        1.69297293e-01,  3.87788743e-01,  4.03022729e-02, -7.71897053e-03,\n",
              "        1.06499478e-01,  1.24605343e-01,  1.20831192e-01,  2.39239424e-01,\n",
              "       -5.55375256e-02, -2.34046966e-01, -2.33438089e-01,  2.84056097e-01,\n",
              "        3.46979350e-01, -8.39262679e-02, -1.38245940e-01,  1.89954132e-01,\n",
              "       -1.54112503e-01, -1.83545455e-01, -2.87050247e+00,  1.48379833e-01,\n",
              "        5.77849269e-01, -1.15439102e-01,  1.14431955e-01,  1.61581457e-01,\n",
              "        3.39108780e-02, -1.41820610e-01,  1.48850575e-01, -3.68462019e-02,\n",
              "       -2.24309802e-01, -9.98190865e-02, -2.96822399e-01,  5.16966656e-02,\n",
              "       -1.45039365e-01,  1.75572872e-01,  4.41814840e-01,  5.04743010e-02,\n",
              "        1.85678542e-01,  3.61187123e-02, -8.55460837e-02, -2.70131499e-01,\n",
              "       -3.88550386e-02, -3.81638631e-02,  1.01310618e-01,  2.39131432e-02,\n",
              "       -2.13704146e-02,  6.31469116e-02, -6.92333058e-02,  1.48661479e-01,\n",
              "        3.16539139e-01, -7.14424923e-02,  2.24625513e-01,  5.83027713e-02,\n",
              "        2.07551077e-01,  4.68585938e-01, -1.46325245e-01, -5.01677878e-02,\n",
              "       -2.14872301e-01,  4.44239348e-01,  6.04093112e-02,  1.47938013e-01,\n",
              "       -4.09586802e-02, -4.29967567e-02,  5.83817437e-02, -2.63048053e-01,\n",
              "       -3.68357748e-02,  2.36921638e-01,  1.24061480e-02, -1.51794627e-01,\n",
              "       -3.36117600e-03, -2.63206899e-01,  3.29007477e-01, -5.62179312e-02,\n",
              "        7.83109888e-02, -5.94220400e-01,  1.35905206e-01,  9.36202407e-02,\n",
              "       -7.70869926e-02, -2.93165725e-02, -1.80462331e-01,  1.79339945e-01,\n",
              "       -4.10456061e-02,  3.33758831e+00,  5.24312910e-03,  1.29191624e-02,\n",
              "        1.83370844e-01,  1.76832110e-01, -4.18038815e-02,  3.59301940e-02,\n",
              "        7.10222032e-03, -1.86506789e-02,  2.13644773e-01,  7.70222535e-03,\n",
              "        1.69641361e-01, -7.04377815e-02, -9.76018384e-02, -4.63834889e-02,\n",
              "        3.01793367e-01,  2.03401089e-01, -7.81867504e-02,  6.79837689e-02,\n",
              "       -3.57375979e-01,  2.08969355e-01, -7.03794882e-02,  3.06796711e-02,\n",
              "        1.31774470e-01, -1.08118153e+00,  6.59604892e-02,  9.24835950e-02,\n",
              "       -2.82810092e-01,  3.04985315e-01, -1.69377103e-01, -6.74778223e-02,\n",
              "       -7.20569342e-02, -1.20515086e-01,  1.88529089e-01, -5.46752699e-02,\n",
              "       -1.86943755e-01,  1.06444051e-02,  2.88685769e-01,  3.37964356e-01,\n",
              "       -1.17002480e-01,  1.02088839e-01,  1.92686573e-01,  7.65594766e-02,\n",
              "       -5.23687787e-02, -1.86495986e-02,  9.77779776e-02, -1.43772528e-01,\n",
              "        3.99545729e-02, -4.10990305e-02,  6.20477982e-02,  7.94942901e-02,\n",
              "       -4.35198732e-02, -2.90334195e-01, -3.95740904e-02, -1.32808834e-01,\n",
              "       -1.32030204e-01, -1.94586083e-01,  3.23218107e-01, -2.68904939e-02,\n",
              "       -3.90180409e-01,  1.43497810e-02, -1.22372836e-01, -4.60876077e-01,\n",
              "        4.51939292e-02,  1.23240031e-01, -1.12627998e-01,  1.90120086e-01,\n",
              "       -2.32947230e-01, -3.45374227e+00,  7.27316290e-02, -2.82763038e-02,\n",
              "        3.83494258e-01,  8.00180137e-02,  8.07415519e-04,  3.81164998e-01,\n",
              "        1.27874583e-01,  2.36106098e-01, -3.63388479e-01,  3.31707090e-01,\n",
              "       -7.37586394e-02, -1.57638974e-02,  2.71599323e-01, -3.40601116e-01,\n",
              "        2.22971961e-01,  1.01948805e-01, -1.34079367e-01,  1.21254586e-01,\n",
              "       -9.77648795e-02, -1.77057847e-01,  8.49649161e-02, -1.41308680e-01,\n",
              "        3.92638557e-02,  1.24904983e-01, -1.39037222e-01, -2.58438855e-01,\n",
              "       -2.65910834e-01,  5.01617491e-02, -7.07050636e-02,  3.03402301e-02,\n",
              "       -1.52757272e-01,  3.55387390e-01, -1.06961429e-01, -2.55728364e-01,\n",
              "       -3.14325237e+00,  1.05905250e-01, -1.81369051e-01, -1.49700835e-01,\n",
              "        1.75300539e-01, -1.55922517e-01,  2.70013541e-01, -1.25534013e-01,\n",
              "       -2.07767814e-01,  7.39505142e-02,  1.56433687e-01,  1.25820544e-02,\n",
              "       -4.16220948e-02,  2.30734766e-01,  1.69550464e-01, -3.29040922e-02,\n",
              "       -1.05584122e-01, -2.63686664e-02,  1.67239264e-01,  2.14851156e-01,\n",
              "        4.80309054e-02, -1.87410861e-01,  8.08829740e-02, -2.52126753e-01,\n",
              "        1.49926413e-02,  2.82606781e-01, -4.80450720e-01,  4.96556535e-02,\n",
              "       -2.97330320e-01, -1.38646290e-01, -9.14832205e-02, -2.90614456e-01,\n",
              "        1.90419126e-02,  1.94898006e-02,  2.41426528e-02,  4.35119309e-02,\n",
              "        1.04968473e-01,  3.34885985e-01,  3.87123227e-01,  8.24144408e-02,\n",
              "       -2.04545557e-01,  5.52444816e-01, -4.48847376e-02,  2.63605207e-01,\n",
              "        5.05069792e-01, -3.05483658e-02,  3.71864259e-01, -3.79564613e-01,\n",
              "       -2.55685057e-02, -5.36550349e-03,  2.72447895e-02,  1.04327120e-01,\n",
              "        9.43018675e-01, -2.88350973e-02,  2.27470681e-01, -7.37972334e-02,\n",
              "        3.16584468e-01, -7.13650957e-02, -6.87093437e-02,  9.18297470e-02,\n",
              "        3.04312766e-01, -4.94286492e-02,  3.67506668e-02,  9.67605710e-02,\n",
              "        1.59314424e-02, -2.18015790e-01,  1.25864208e-01, -4.55468565e-01,\n",
              "        2.26771399e-01, -1.47235259e-01,  2.14339867e-02,  9.97552127e-02,\n",
              "       -1.10340059e-01, -8.25787127e-01, -1.15633808e-01,  1.35290697e-02,\n",
              "        7.23253563e-03,  1.37524590e-01,  7.54712373e-02, -7.74448216e-02,\n",
              "       -4.29634422e-01,  1.01741627e-01, -1.05930351e-01,  2.09380910e-01,\n",
              "       -1.91781208e-01, -9.40924659e-02, -1.63399369e-01, -6.97441250e-02,\n",
              "       -3.91903460e-01, -1.43517137e-01, -1.42713621e-01,  9.30950418e-02,\n",
              "       -2.79370993e-02,  2.44188875e-01, -6.26225695e-02, -1.69695571e-01,\n",
              "        2.66911447e-01, -6.94805861e-01,  2.41943136e-01, -1.15492806e-01,\n",
              "        4.43240218e-02, -3.18836689e-01,  7.36415535e-02,  1.13749690e-01,\n",
              "       -2.27085590e-01, -2.05655962e-01,  4.35755169e-03,  3.24017584e-01,\n",
              "       -1.48218051e-01,  1.55484587e-01,  5.37016196e-03,  1.99668452e-01,\n",
              "        1.17923349e-01, -5.07244281e-02,  9.59414721e-01, -6.52733222e-02,\n",
              "       -7.46102259e-02,  3.70087028e-01, -4.70622256e-02,  2.74525940e-01,\n",
              "        2.18109176e-01,  1.29140511e-01, -8.10810551e-02,  1.34352520e-01,\n",
              "       -9.29928198e-03, -1.10434107e-01,  9.28754434e-02, -3.38035762e-01,\n",
              "       -3.45988959e-01, -2.48336187e-03, -9.54743698e-02, -3.12328964e-01,\n",
              "        1.88614242e-02, -5.09109318e-01, -2.24731807e-02, -3.35720330e-01,\n",
              "       -2.33219251e-01,  9.23701678e-04,  2.43867576e-01,  1.36224151e-01,\n",
              "        4.87445712e-01,  1.84844539e-01,  1.22985937e-01,  3.40797037e-01,\n",
              "       -1.14856265e-03,  3.29304695e-01,  1.68618143e-01,  2.84572214e-01,\n",
              "       -3.71255726e-02,  1.63331181e-01, -7.87281692e-02,  8.31937566e-02,\n",
              "        1.57570675e-01, -3.70142490e-01,  5.83541505e-02,  9.02729109e-02,\n",
              "        6.65533822e-03,  2.88770348e-02,  6.50464296e-02,  1.33363828e-01,\n",
              "        2.73294747e-01,  1.74843922e-01, -1.34119773e+00,  2.01653510e-01,\n",
              "        2.70104315e-02,  5.08960001e-02,  6.55744821e-02, -1.53266966e-01,\n",
              "       -6.47129938e-02,  3.13391119e-01,  4.33668727e-03,  9.89384651e-02,\n",
              "        1.72720626e-02,  4.21878509e-02, -1.04525767e-01,  9.60512683e-02,\n",
              "       -1.96873710e-01, -1.06624506e-01, -4.21429798e-02,  1.22814104e-02,\n",
              "        1.43837199e-01, -2.74014287e-02, -2.38477975e-01,  2.56798118e-01,\n",
              "        1.71968281e-01, -3.84673476e-02, -2.90921479e-01, -1.12167476e-02,\n",
              "       -1.72938913e-01,  3.29709470e-01,  1.96483120e-01,  2.49123588e-01,\n",
              "       -4.07812856e-02, -3.95469546e-01, -6.77915037e-01, -1.62167966e-01,\n",
              "        1.07232518e-01, -6.55618310e-02,  2.43183389e-01, -3.16093229e-02,\n",
              "        3.06790680e-01,  1.37647316e-01, -4.05787945e-01,  3.60595554e-01,\n",
              "        2.07060426e-01,  1.01002388e-01,  4.43232059e-01, -4.98294346e-02,\n",
              "       -1.76464602e-01,  1.09616593e-01,  9.15351510e-02, -1.19803734e-01,\n",
              "       -5.54759540e-02, -7.49836937e-02, -8.65045097e-03,  5.23355417e-02,\n",
              "        2.97090244e-02, -1.15563735e-01,  4.47408594e-02,  1.67958617e-01,\n",
              "       -1.77072138e-02, -2.11909503e-01,  1.89838618e-01, -1.05839573e-01,\n",
              "       -3.07607561e-01,  8.14887583e-02, -1.74861237e-01, -6.10220730e-01,\n",
              "       -5.16696349e-02,  9.79180075e-03,  2.23208532e-01,  1.48815259e-01,\n",
              "        3.03364635e-01, -1.61172390e-01, -3.92776996e-01,  1.08087197e-01,\n",
              "       -2.70807177e-01,  1.08138345e-01,  5.54320328e-02,  1.76931545e-01,\n",
              "        1.19700253e-01, -3.09309036e-01,  2.44642287e-01, -1.70084938e-01,\n",
              "       -1.24087846e-02,  2.86910117e-01, -3.26882303e-01,  1.70367379e-02,\n",
              "       -3.64048153e-01, -7.96171054e-02, -2.12624252e-01,  6.46057948e-02,\n",
              "       -2.23772645e-01, -4.57848012e-01,  2.76453167e-01, -2.31416840e-02,\n",
              "        5.44181392e-02,  1.29873222e-02,  3.06767467e-02, -1.09271079e-01,\n",
              "       -1.69231042e-01,  4.78824563e-02, -3.86425294e-02,  1.34716064e-01,\n",
              "        2.21528918e-01,  1.73255920e-01,  1.91657886e-01,  3.98745209e-01,\n",
              "        2.38009244e-01,  2.86181778e-01, -2.99039572e-01,  9.21404436e-02,\n",
              "       -5.35558502e-04,  1.03394307e-01, -1.39258951e-01,  1.84104547e-01,\n",
              "        3.40930223e-02, -3.97937536e-01, -1.80322886e-01, -2.10167482e-01,\n",
              "        2.17033935e+00,  5.56241035e-01,  3.85066830e-02,  8.09692219e-03,\n",
              "        1.08285062e-01,  5.62878288e-02,  2.33614836e-02,  6.14316687e-02,\n",
              "       -6.95748180e-02,  2.53661484e-01,  1.07607067e-01,  6.53727874e-02,\n",
              "        2.86106411e-02,  1.01840913e-01,  3.13440919e-01,  8.19555391e-03,\n",
              "        1.52596980e-01, -3.29979718e-01, -3.89677018e-01, -2.78429016e-02,\n",
              "       -4.67116535e-01,  1.30036175e-01,  1.91121832e-01, -1.79695576e-01,\n",
              "       -6.15897067e-02,  2.82228887e-02,  1.57998011e-01, -1.76657900e-01,\n",
              "        2.91134417e-02,  2.60992944e-01,  1.40103757e-01,  1.09765984e-01,\n",
              "       -8.95995423e-02,  3.29514146e-01, -9.69352722e-02,  2.04464644e-01,\n",
              "        2.96274126e-01, -1.01249926e-01, -1.65968135e-01,  2.58810520e-01,\n",
              "        8.55534226e-02, -1.60844833e-01,  3.09168100e-01, -3.29633385e-01,\n",
              "       -5.09199360e-03,  3.19122076e-01, -1.94517016e-01, -2.23141611e-01,\n",
              "        2.31225938e-01,  9.69772413e-02, -4.16460223e-02, -1.18520901e-01,\n",
              "       -3.16445231e-01,  2.54870713e-01, -2.38707915e-01, -2.84153186e-02,\n",
              "        6.19377792e-02,  3.08377501e-02,  4.36808355e-02,  2.31307000e-01,\n",
              "       -9.90159959e-02,  1.42046943e-01,  3.87571692e-01,  1.07238278e-01,\n",
              "        9.54072922e-02, -4.28202637e-02, -7.96835572e-02,  2.54516125e-01,\n",
              "        9.37065557e-02, -2.01003671e-01,  1.44680232e-01,  2.26450071e-01,\n",
              "        3.94167274e-01, -1.25667840e-01,  4.30823237e-01,  5.70175499e-02,\n",
              "        3.39135319e-01,  2.93985400e-02,  2.73068696e-02, -2.50072694e+00,\n",
              "       -6.13010935e-02,  9.84144434e-02,  3.44010442e-01, -5.09646572e-02,\n",
              "        3.01083922e-01,  3.46060246e-01, -1.19874977e-01,  7.76538998e-02,\n",
              "       -1.74339265e-01,  1.24120049e-01,  3.72915477e-01,  2.85688162e-01,\n",
              "       -3.89035121e-02, -3.50335874e-02,  1.47467315e-01,  1.42283455e-01,\n",
              "       -8.73766690e-02, -2.63061762e-01, -2.78420411e-02,  7.24465698e-02,\n",
              "        2.05846369e-01,  5.02631031e-02, -3.70095670e-01, -2.50437051e-01,\n",
              "        3.23807925e-01, -1.10981487e-01, -1.10406011e-01,  1.29906416e-01,\n",
              "        1.75226092e-01, -2.09269002e-01,  2.65803397e-01, -1.63037896e-01,\n",
              "        1.14415869e-01,  2.07294356e-02, -1.56643331e-01,  3.76812704e-02,\n",
              "        4.17382922e-03,  4.26237248e-02, -1.91215485e-01, -9.07480121e-02,\n",
              "        4.10791636e-01, -2.55933534e-02, -7.05360547e-02, -2.83984304e-03,\n",
              "        7.19720349e-02,  2.08715528e-01, -3.18705380e-01,  2.81417578e-01,\n",
              "       -3.05136144e-01, -4.83231656e-02,  1.30894058e-03,  7.35258982e-02,\n",
              "       -1.22033700e-01,  1.10245690e-01,  6.16682656e-02,  5.79864755e-02,\n",
              "       -3.52475643e-02, -9.97526664e-03, -2.22208723e-01, -1.40784457e-01,\n",
              "        7.07670301e-02, -6.56196699e-02,  1.40886575e-01,  9.40794051e-02,\n",
              "       -4.13102955e-01, -1.23325109e-01, -1.03398442e-01, -1.85181946e-01,\n",
              "        1.09858923e-01, -1.54572442e-01, -2.17254207e-01,  3.12750638e-01,\n",
              "        1.43813476e-01,  1.17340803e-01, -8.55748914e-03,  3.84560376e-01,\n",
              "        2.02791572e-01,  6.40689433e-02,  1.42896697e-01,  2.97258273e-02,\n",
              "       -1.13938704e-01, -9.42889377e-02,  4.29111980e-02,  1.25361517e-01,\n",
              "       -6.80579853e+00, -4.50932115e-01, -5.09348884e-02,  3.60239632e-02,\n",
              "        6.15309365e-02, -2.00679436e-01,  7.20882509e-03, -2.91156381e-01,\n",
              "       -1.36476189e-01, -7.78508037e-02,  7.10780695e-02,  6.36274815e-02,\n",
              "        8.40973854e-02, -1.36948377e-01,  5.86700499e-01,  2.01127052e-01],\n",
              "      dtype=float32)"
            ]
          },
          "execution_count": 60,
          "metadata": {},
          "output_type": "execute_result"
        }
      ],
      "source": [
        "features = last_hidden_states[0][:,0,:].numpy()\n",
        "features[0]"
      ]
    },
    {
      "cell_type": "markdown",
      "metadata": {
        "id": "_VZVU66Gurr-"
      },
      "source": [
        "The labels indicating which sentence is positive and negative now go into the `labels` variable"
      ]
    },
    {
      "cell_type": "code",
      "execution_count": 54,
      "metadata": {
        "id": "JD3fX2yh6PTx"
      },
      "outputs": [],
      "source": [
        "labels = batch_1[1]"
      ]
    },
    {
      "cell_type": "markdown",
      "metadata": {
        "id": "iaoEvM2evRx1"
      },
      "source": [
        "## Model #2: Train/Test Split\n",
        "Let's now split our datset into a training set and testing set (even though we're using 2,000 sentences from the SST2 training set)."
      ]
    },
    {
      "cell_type": "code",
      "execution_count": 55,
      "metadata": {
        "id": "ddAqbkoU6PP9"
      },
      "outputs": [],
      "source": [
        "train_features, test_features, train_labels, test_labels = train_test_split(features, labels)"
      ]
    },
    {
      "cell_type": "markdown",
      "metadata": {
        "id": "B9bhSJpcv1Bl"
      },
      "source": [
        "<img src=\"https://jalammar.github.io/images/distilBERT/bert-distilbert-train-test-split-sentence-embedding.png\" />\n",
        "\n",
        "### [Bonus] Grid Search for Parameters\n",
        "We can dive into Logistic regression directly with the Scikit Learn default parameters, but sometimes it's worth searching for the best value of the C parameter, which determines regularization strength."
      ]
    },
    {
      "cell_type": "code",
      "execution_count": null,
      "metadata": {
        "id": "cyEwr7yYD3Ci"
      },
      "outputs": [],
      "source": [
        "# parameters = {'C': np.linspace(0.0001, 100, 20)}\n",
        "# grid_search = GridSearchCV(LogisticRegression(), parameters)\n",
        "# grid_search.fit(train_features, train_labels)\n",
        "\n",
        "# print('best parameters: ', grid_search.best_params_)\n",
        "# print('best scrores: ', grid_search.best_score_)"
      ]
    },
    {
      "cell_type": "markdown",
      "metadata": {
        "id": "KCT9u8vAwnID"
      },
      "source": [
        "We now train the LogisticRegression model. If you've chosen to do the gridsearch, you can plug the value of C into the model declaration (e.g. `LogisticRegression(C=5.2)`)."
      ]
    },
    {
      "cell_type": "code",
      "execution_count": 56,
      "metadata": {
        "colab": {
          "base_uri": "https://localhost:8080/",
          "height": 102
        },
        "id": "gG-EVWx4CzBc",
        "outputId": "9252ceff-a7d0-4359-fef9-2f72be89c7d6"
      },
      "outputs": [
        {
          "data": {
            "text/plain": [
              "LogisticRegression()"
            ]
          },
          "execution_count": 56,
          "metadata": {},
          "output_type": "execute_result"
        }
      ],
      "source": [
        "lr_clf = LogisticRegression()\n",
        "lr_clf.fit(train_features, train_labels)"
      ]
    },
    {
      "cell_type": "markdown",
      "metadata": {
        "id": "3rUMKuVgwzkY"
      },
      "source": [
        "<img src=\"https://jalammar.github.io/images/distilBERT/bert-training-logistic-regression.png\" />\n",
        "\n",
        "## Evaluating Model #2\n",
        "So how well does our model do in classifying sentences? One way is to check the accuracy against the testing dataset:"
      ]
    },
    {
      "cell_type": "code",
      "execution_count": 57,
      "metadata": {
        "colab": {
          "base_uri": "https://localhost:8080/",
          "height": 34
        },
        "id": "iCoyxRJ7ECTA",
        "outputId": "cfd86dea-5d16-476c-ab9b-47cbee3a014f"
      },
      "outputs": [
        {
          "data": {
            "text/plain": [
              "0.806"
            ]
          },
          "execution_count": 57,
          "metadata": {},
          "output_type": "execute_result"
        }
      ],
      "source": [
        "lr_clf.score(test_features, test_labels)"
      ]
    },
    {
      "cell_type": "markdown",
      "metadata": {
        "id": "75oyhr3VxHoE"
      },
      "source": [
        "How good is this score? What can we compare it against? Let's first look at a dummy classifier:"
      ]
    },
    {
      "cell_type": "code",
      "execution_count": 58,
      "metadata": {
        "colab": {
          "base_uri": "https://localhost:8080/",
          "height": 34
        },
        "id": "lnwgmqNG7i5l",
        "outputId": "0042aed2-4fa8-4fa0-bf25-fdef70a10aac"
      },
      "outputs": [
        {
          "name": "stdout",
          "output_type": "stream",
          "text": [
            "Dummy classifier score: 0.515 (+/- 0.00)\n"
          ]
        }
      ],
      "source": [
        "from sklearn.dummy import DummyClassifier\n",
        "clf = DummyClassifier()\n",
        "\n",
        "scores = cross_val_score(clf, train_features, train_labels)\n",
        "print(\"Dummy classifier score: %0.3f (+/- %0.2f)\" % (scores.mean(), scores.std() * 2))"
      ]
    },
    {
      "cell_type": "markdown",
      "metadata": {
        "id": "7Lg4LOpoxSOR"
      },
      "source": [
        "So our model clearly does better than a dummy classifier. But how does it compare against the best models?\n",
        "\n",
        "## Proper SST2 scores\n",
        "For reference, the [highest accuracy score](http://nlpprogress.com/english/sentiment_analysis.html) for this dataset is currently **96.8**. DistilBERT can be trained to improve its score on this task – a process called **fine-tuning** which updates BERT’s weights to make it achieve a better performance in this sentence classification task (which we can call the downstream task). The fine-tuned DistilBERT turns out to achieve an accuracy score of **90.7**. The full size BERT model achieves **94.9**.\n",
        "\n",
        "\n",
        "\n",
        "And that’s it! That’s a good first contact with BERT. The next step would be to head over to the documentation and try your hand at [fine-tuning](https://huggingface.co/transformers/examples.html#glue). You can also go back and switch from distilBERT to BERT and see how that works."
      ]
    },
    {
      "cell_type": "code",
      "execution_count": null,
      "metadata": {
        "id": "EJQuqV6cnWQu"
      },
      "outputs": [],
      "source": []
    }
  ],
  "metadata": {
    "colab": {
      "include_colab_link": true,
      "machine_shape": "hm",
      "name": "A Visual Notebook to Using BERT for the First Time.ipynb",
      "provenance": []
    },
    "kernelspec": {
      "display_name": "Python 3",
      "name": "python3"
    },
    "language_info": {
      "codemirror_mode": {
        "name": "ipython",
        "version": 3
      },
      "file_extension": ".py",
      "mimetype": "text/x-python",
      "name": "python",
      "nbconvert_exporter": "python",
      "pygments_lexer": "ipython3",
      "version": "3.9.13"
    }
  },
  "nbformat": 4,
  "nbformat_minor": 0
}
